{
 "cells": [
  {
   "cell_type": "code",
   "execution_count": 4,
   "metadata": {},
   "outputs": [],
   "source": [
    "# The dealer deals one card face up to each player, with the last card going to the house’s hand which is face down. \n",
    "# The dealer will then deal one card facing up to each player and then the house.\n",
    "\n",
    "cards = 4*[ \"two\", \"three\", \"four\", \"five\", \"six\", \"seven\", \"eight\", \"nine\", \"ten\", \"jack\", \"queen\", \"king\", \"ace\"]\n",
    "\n",
    "def draw_cards():\n",
    "\n",
    "    \"\"\" This function launch the game and draw 2 cards for the dealer and the player.\n",
    "        The card is removed from the deck once distributed\n",
    "        \n",
    "        No input because we use the random function to draw cards from the deck. \n",
    "        \n",
    "        Output is lists of cards for the player and dealer. Also the initial deck with the removed cards.\n",
    "    \"\"\"\n",
    "    \n",
    "    player_cards = [] #Will change to dictionnary to store the value of card?\n",
    "    dealer_cards = []\n",
    "    \n",
    "    for rd in range(2):\n",
    "        random_card = random.choice(card_list)\n",
    "        player_cards.append(random_card)\n",
    "        print(f'The Player card is: {random_card}')\n",
    "        card_list.remove(random_card)\n",
    "        \n",
    "        if dealer_cards == []:\n",
    "            random_card = random.choice(card_list)\n",
    "            dealer_cards.append(random_card)\n",
    "            print('The dealer has been served. The card is faced down')\n",
    "            card_list.remove(random_card)\n",
    "        else:\n",
    "            random_card = random.choice(card_list)\n",
    "            dealer_cards.append(random_card)\n",
    "            print(f'The dealer card is: {random_card}')\n",
    "            card_list.remove(random_card)\n",
    "    \n",
    "    return player_cards, dealer_cards, card_list"
   ]
  },
  {
   "cell_type": "code",
   "execution_count": 51,
   "metadata": {},
   "outputs": [],
   "source": [
    "import random\n",
    "\n",
    "cards = 4*[ \"two\", \"three\", \"four\", \"five\", \"six\", \"seven\", \"eight\", \"nine\", \"ten\", \"jack\", \"queen\", \"king\", \"ace\"]         \n",
    "card_values = {\"one\":1,\"two\":2, \"three\": 3, \"four\": 4, \"five\": 5, \"six\": 6, \"seven\": 7, \"eight\": 8, \"nine\": 9, \"ten\":10, \"jack\": 10, \"queen\": 10, \"king\": 10, \"ace\": 11}\n",
    "\n",
    "player_score=0\n",
    "dealer_score=0\n",
    "\n",
    "player_cards=[]\n",
    "dealer_cards=[]"
   ]
  },
  {
   "cell_type": "code",
   "execution_count": 52,
   "metadata": {},
   "outputs": [],
   "source": [
    "def draw_cards(player, player_cards, player_score, deck_cards):\n",
    "\n",
    "    \"\"\" This function allow to draw a random card for the dealer or the player.\n",
    "        The card is removed from the deck once distributed.\n",
    "        \n",
    "        Input: \n",
    "        - player: the type of player either the player or the dealer\n",
    "        - player_cards: the list containing the cards of the player\n",
    "        - deck_cards: the list containing all the cards \n",
    "        \n",
    "        Output:\n",
    "        - player_cards: the list of cards for the player who just draw the card\n",
    "        - deck_card: the initial deck with the removed card\n",
    "    \"\"\"\n",
    "    # Random card picker\n",
    "    random_card = random.choice(deck_cards)\n",
    "    deck_cards.remove(random_card)\n",
    "\n",
    "    # Print initial state\n",
    "    if player == \"dealer\" and player_cards == []:    \n",
    "        print('The dealer has been served. The card is faced down')\n",
    "    elif player == \"player\":\n",
    "        print(f'The player card is: {random_card}')\n",
    "        if random_card == \"ace\":\n",
    "          card_choice = input(\"What value of the card would you keep: one or ace?\")\n",
    "          random_card = card_choice\n",
    "    else:\n",
    "        print(f'The dealer card is: {random_card}')\n",
    "    \n",
    "    # Changing scores\n",
    "    player_cards.append(random_card)\n",
    "    player_score = player_score + card_values[random_card]\n",
    "    \n",
    "    return player_cards, player_score, deck_cards"
   ]
  },
  {
   "cell_type": "code",
   "execution_count": 53,
   "metadata": {},
   "outputs": [
    {
     "name": "stdout",
     "output_type": "stream",
     "text": [
      "debug random card ten\n",
      "The player card is: ten\n",
      "debug player score 10\n",
      "debug card score 10\n",
      "debug random card six\n",
      "The player card is: six\n",
      "debug player score 16\n",
      "debug card score 6\n",
      "['ten', 'six'] 16\n",
      "[] 0\n",
      "50\n"
     ]
    }
   ],
   "source": [
    "player_cards, player_score, deck_cards = draw_cards(\"player\", player_cards, player_score, cards)\n",
    "#draw_cards(\"dealer\", dealer_cards, dealer_score, cards)\n",
    "player_cards, player_score, deck_cards = draw_cards(\"player\", player_cards, player_score, cards)\n",
    "#draw_cards(\"dealer\", dealer_cards, dealer_score, cards)\n",
    "\n",
    "print(player_cards, player_score)\n",
    "print(dealer_cards, dealer_score)\n",
    "print(len(cards))"
   ]
  },
  {
   "cell_type": "code",
   "execution_count": null,
   "metadata": {},
   "outputs": [],
   "source": []
  }
 ],
 "metadata": {
  "kernelspec": {
   "display_name": "Python 3",
   "language": "python",
   "name": "python3"
  },
  "language_info": {
   "codemirror_mode": {
    "name": "ipython",
    "version": 3
   },
   "file_extension": ".py",
   "mimetype": "text/x-python",
   "name": "python",
   "nbconvert_exporter": "python",
   "pygments_lexer": "ipython3",
   "version": "3.7.4"
  }
 },
 "nbformat": 4,
 "nbformat_minor": 2
}
