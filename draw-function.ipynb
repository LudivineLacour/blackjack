{
 "cells": [
  {
   "cell_type": "code",
   "execution_count": null,
   "metadata": {},
   "outputs": [],
   "source": [
    "# The dealer deals one card face up to each player, with the last card going to the house’s hand which is face down. \n",
    "# The dealer will then deal one card facing up to each player and then the house.\n",
    "\n",
    "import random\n",
    "\n",
    "card_list = ['Ace','Queen','King']*4\n",
    "\n",
    "def draw_cards():\n",
    "\n",
    "    \"\"\" This function launch the game and draw 2 cards for the dealer and the player.\n",
    "        The card is removed from the deck once distributed\n",
    "        \n",
    "        No input because we use the random function to draw cards from the deck. \n",
    "        \n",
    "        Output is lists of cards for the player and dealer. Also the initial deck with the removed cards.\n",
    "    \"\"\"\n",
    "    \n",
    "    player_cards = [] #Will change to dictionnary to store the value of card?\n",
    "    dealer_cards = []\n",
    "    \n",
    "    for rd in range(2):\n",
    "        random_card = random.choice(card_list)\n",
    "        player_cards.append(random_card)\n",
    "        print(f'The Player card is: {random_card}')\n",
    "        card_list.remove(random_card)\n",
    "        \n",
    "        if dealer_cards == []:\n",
    "            random_card = random.choice(card_list)\n",
    "            dealer_cards.append(random_card)\n",
    "            print('The dealer has been served. The card is faced down')\n",
    "            card_list.remove(random_card)\n",
    "        else:\n",
    "            random_card = random.choice(card_list)\n",
    "            dealer_cards.append(random_card)\n",
    "            print(f'The dealer card is: {random_card}')\n",
    "            card_list.remove(random_card)\n",
    "    \n",
    "    return player_cards, dealer_cards, card_list"
   ]
  },
  {
   "cell_type": "code",
   "execution_count": null,
   "metadata": {},
   "outputs": [],
   "source": []
  }
 ],
 "metadata": {
  "kernelspec": {
   "display_name": "Python 3",
   "language": "python",
   "name": "python3"
  },
  "language_info": {
   "codemirror_mode": {
    "name": "ipython",
    "version": 3
   },
   "file_extension": ".py",
   "mimetype": "text/x-python",
   "name": "python",
   "nbconvert_exporter": "python",
   "pygments_lexer": "ipython3",
   "version": "3.7.4"
  }
 },
 "nbformat": 4,
 "nbformat_minor": 2
}
