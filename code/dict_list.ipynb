{
 "cells": [
  {
   "cell_type": "markdown",
   "metadata": {},
   "source": [
    "## Blackjack"
   ]
  },
  {
   "cell_type": "code",
   "execution_count": 3,
   "metadata": {},
   "outputs": [
    {
     "ename": "SyntaxError",
     "evalue": "invalid syntax (<ipython-input-3-2f58efa67c71>, line 6)",
     "output_type": "error",
     "traceback": [
      "\u001b[0;36m  File \u001b[0;32m\"<ipython-input-3-2f58efa67c71>\"\u001b[0;36m, line \u001b[0;32m6\u001b[0m\n\u001b[0;31m    \"queen\": 10, \"king\": 10, \"ace\": [1,11]}\u001b[0m\n\u001b[0m          ^\u001b[0m\n\u001b[0;31mSyntaxError\u001b[0m\u001b[0;31m:\u001b[0m invalid syntax\n"
     ]
    }
   ],
   "source": [
    "#52 cards in decks\n",
    "\n",
    "Cards = 4*[ \"two\", \"three\", \"four\", \"five\", \"six\", \"seven\", \"eight\", \"nine\", \"ten\", \"jack\", \"queen\", \"king\", \"ace\"]\n",
    "          \n",
    "Card_values = {\"two\":2, \"three\": 3, \"four\": 4, \"five\": 5, \"six\": 6, \"seven\": 7, \"eight\": 8, \"nine\": 9, \"jack\": 10\n",
    "                \"queen\": 10, \"king\": 10, \"ace\": [1,11]}\n",
    "    \n",
    "\n",
    "    \n",
    "    \n",
    "    \n",
    "    \n",
    "#Diamonds = {\"one of diamonds\": 1, \"two of diamonds\": 2, \"three of diamonds\": 3, \"four of diamonds\": 4, \"five of diamonds\": 5,\n",
    "#\"six of diamonds\": 6, \"seven of diamonds\": 7, \"eight of diamonds\": 8, \"nine of diamonds\": 9, \"ten of diamonds\": 10,\n",
    "# \"jack of diamonds\": 10, \"queen of diamonds\": 10, \"king of diamonds\": 10, \"ace of diamonds\": 11}\n",
    "          \n",
    "#Clubs = {\"one of clubs\": 1, \"two of clubs\": 2, \"three of clubs\": 3, \"four of clubs\": 4, \"five of clubs\": 5,\n",
    "#\"six of clubs\": 6, \"seven of clubs\": 7, \"eight of clubs\": 8, \"nine of clubs\": 9, \"ten of clubs\": 10,\n",
    "# \"jack of clubs\": 10, \"queen of clubs\": 10, \"king of clubs\": 10, \"ace of clubs\": 11}\n",
    "         \n",
    "#Hearts = {\"one of hearts\": 1, \"two of hearts\": 2, \"three of hearts\": 3, \"four of hearts\": 4, \"five of hearts\": 5,\n",
    "#\"six of hearts\": 6, \"seven of hearts\": 7, \"eight of hearts\": 8, \"nine of hearts\": 9, \"ten of hearts\": 10,\n",
    " #\"jack of hearts\": 10, \"queen of hearts\": 10, \"king of hearts\": 10, \"ace of hearts\": 11}\n",
    "\n",
    "## our code"
   ]
  },
  {
   "cell_type": "code",
   "execution_count": null,
   "metadata": {},
   "outputs": [],
   "source": []
  }
 ],
 "metadata": {
  "kernelspec": {
   "display_name": "Python 3",
   "language": "python",
   "name": "python3"
  },
  "language_info": {
   "codemirror_mode": {
    "name": "ipython",
    "version": 3
   },
   "file_extension": ".py",
   "mimetype": "text/x-python",
   "name": "python",
   "nbconvert_exporter": "python",
   "pygments_lexer": "ipython3",
   "version": "3.7.4"
  }
 },
 "nbformat": 4,
 "nbformat_minor": 2
}
