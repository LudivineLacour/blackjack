{
 "cells": [
  {
   "cell_type": "code",
   "execution_count": 6,
   "metadata": {},
   "outputs": [],
   "source": [
    "import random\n",
    "\n",
    "cards = 4*[ \"two\", \"three\", \"four\", \"five\", \"six\", \"seven\", \"eight\", \"nine\", \"ten\", \"jack\", \"queen\", \"king\", \"ace\"]         \n",
    "card_values = {\"one\":1,\"two\":2, \"three\": 3, \"four\": 4, \"five\": 5, \"six\": 6, \"seven\": 7, \"eight\": 8, \"nine\": 9, \"ten\":10, \"jack\": 10, \"queen\": 10, \"king\": 10, \"ace\": 11}\n",
    "\n",
    "player_score=0\n",
    "dealer_score=0\n",
    "\n",
    "player_cards=[]\n",
    "dealer_cards=[]\n"
   ]
  },
  {
   "cell_type": "code",
   "execution_count": 2,
   "metadata": {},
   "outputs": [],
   "source": [
    "## FUNCTIONS BELOW \n",
    "\n",
    "def game():\n",
    "    \n",
    "    \n",
    "    \n",
    "    draw_cards(player) # should do only one draw, define the player who draw the card and return the list of cards and the score\n",
    "    draw_cards(dealer)\n",
    "    draw_cards(player)\n",
    "    draw_cards(dealer)\n",
    "    \n",
    "    if sum(player_score) > 21:\n",
    "        return \"sorry you loose!\"\n",
    "    elif player.keys() == ('Ace','Jack'):\n",
    "        return \"BlackJack! Nice one\"\n",
    "    else:\n",
    "        player_game() # The player is able to hit unlimited until he reach more than 21 or stand\n",
    "        \n",
    "    print(f\"These are the cards of the dealer {dealer_cards}\") \n",
    "    \n",
    "    while dealer_score < player_score:\n",
    "        # dealer keeps playing and draw cards\n",
    "        draw_cards(dealer)\n",
    "    \n",
    "    if dealer_score < 21 and dealer_score > player_score:\n",
    "        return \"Dealer wins\"\n",
    "    else:\n",
    "        return \"Player wins\""
   ]
  },
  {
   "cell_type": "code",
   "execution_count": 3,
   "metadata": {},
   "outputs": [],
   "source": [
    "def draw_cards():\n",
    "    pass"
   ]
  },
  {
   "cell_type": "code",
   "execution_count": 5,
   "metadata": {},
   "outputs": [],
   "source": [
    "def player_game():\n",
    "    \"\"\"The function should ask the player if they want to hit or stand\n",
    "        If the player hit, a new card is drawed\n",
    "        If the player stand, we should return the same cards\n",
    "        \n",
    "        Input = user.input()\n",
    "        \n",
    "        Output = players_cards\n",
    "    \"\"\"\n",
    "    usr_inp = input(\"What do you want to do? Hit or stand \\n\")\n",
    "    \n",
    "    if usr_inp == 'hit':\n",
    "        #draw_cards()\n",
    "        print(\"New card\")\n",
    "        \n",
    "    return sum(player_cards.values())"
   ]
  },
  {
   "cell_type": "code",
   "execution_count": null,
   "metadata": {},
   "outputs": [],
   "source": [
    "def score(dealer_cards, player_cards):\n",
    "    if player_cards == 21:\n",
    "        print_results(dealer_cards, player_cards)\n",
    "        print (\"Congratulations! You got a Blackjack!\\n\")\n",
    "    elif dealer_cards == 21:\n",
    "        print_results(dealer_cards, player_cards)\n",
    "        print (\"Sorry, you lose. The dealer got a blackjack.\\n\")\n",
    "    elif player_cards > 21:\n",
    "        print_results(dealer_cards, player_cards)\n",
    "        print (\"Sorry. You bust. You lose.\\n\")\n",
    "    elif dealer_cards > 21:\n",
    "        print_results(dealer_cards, player_cards)\n",
    "        print (\"Dealer busts. You win!\\n\")\n",
    "    elif player_cards < dealer_cards:\n",
    "        print_results(dealer_cards, player_cards)\n",
    "        print (\"Sorry. Your score isn't higher than the dealer. You lose.\\n\")\n",
    "    elif player_cards > dealer_cards:\n",
    "        print_results(dealer_cards, player_cards)\n",
    "        print (\"Congratulations. Your score is higher than the dealer. You win\\n\")"
   ]
  }
 ],
 "metadata": {
  "kernelspec": {
   "display_name": "Python 3",
   "language": "python",
   "name": "python3"
  },
  "language_info": {
   "codemirror_mode": {
    "name": "ipython",
    "version": 3
   },
   "file_extension": ".py",
   "mimetype": "text/x-python",
   "name": "python",
   "nbconvert_exporter": "python",
   "pygments_lexer": "ipython3",
   "version": "3.7.4"
  }
 },
 "nbformat": 4,
 "nbformat_minor": 2
}
