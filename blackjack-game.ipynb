{
 "cells": [
  {
   "cell_type": "code",
   "execution_count": 6,
   "metadata": {},
   "outputs": [],
   "source": [
    "import random"
   ]
  },
  {
   "cell_type": "code",
   "execution_count": 7,
   "metadata": {},
   "outputs": [],
   "source": [
    "## FUNCTIONS BELOW \n",
    "\n",
    "def game():\n",
    "    \n",
    "    cards = 4*[ \"two\", \"three\", \"four\", \"five\", \"six\", \"seven\", \"eight\", \"nine\", \"ten\", \"jack\", \"queen\", \"king\", \"ace\"]         \n",
    "\n",
    "    player_score=0\n",
    "    dealer_score=0\n",
    "\n",
    "    player_cards=[]\n",
    "    dealer_cards=[]\n",
    "    \n",
    "    ### Beginning of the game. Draw the first 2 cards\n",
    "    player_cards, player_score, cards = draw_cards(\"player\", player_cards, player_score, cards)\n",
    "    dealer_cards, dealer_score, cards = draw_cards(\"dealer\", dealer_cards, dealer_score, cards)\n",
    "    player_cards, player_score, cards = draw_cards(\"player\", player_cards, player_score, cards)\n",
    "    dealer_cards, dealer_score, cards = draw_cards(\"dealer\", dealer_cards, dealer_score, cards)\n",
    "    \n",
    "    ### 2nd step: is the player allowed to continue?\n",
    "    if player_score > 21:\n",
    "        return \"sorry you loose!\"\n",
    "    else:\n",
    "        usr_inp = input('What do you want to do? hit or stand')# The player is able to hit unlimited until he reach more than 21 or stand\n",
    "    \n",
    "    ### 3rd step: if the player hit, he draws a new card, otherwise the dealer reveals his cards\n",
    "    if usr_inp == 'hit':\n",
    "        player_cards, player_score, cards = draw_cards(\"player\", player_cards, player_score, cards)\n",
    "    else:   \n",
    "        print(f\"These are the cards of the dealer {dealer_cards}\") \n",
    "        \n",
    "    ### 4th step: if the dealer is under 16, he continues to draw card otherwise we compare the score\n",
    "    while dealer_score < player_score:\n",
    "        # dealer keeps playing and draw cards\n",
    "        dealer_cards, dealer_score, cards = draw_cards(\"dealer\", dealer_cards, dealer_score, cards)\n",
    "    \n",
    "    print('dealer cards', dealer_cards)\n",
    "    print('player cards', player_cards)\n",
    "    print('dealer score', dealer_score)\n",
    "    print('player score', player_score)\n",
    "\n",
    "    ### 5th step: comparison of the players scores\n",
    "    return score(dealer_score, player_score)"
   ]
  },
  {
   "cell_type": "code",
   "execution_count": 8,
   "metadata": {},
   "outputs": [],
   "source": [
    "def draw_cards(player, player_cards, player_score, deck_cards):\n",
    "\n",
    "    \"\"\" This function allow to draw a random card for the dealer or the player.\n",
    "        The card is removed from the deck once distributed.\n",
    "        \n",
    "        Input: \n",
    "        - player: the type of player either the player or the dealer\n",
    "        - player_cards: the list containing the cards of the player\n",
    "        - deck_cards: the list containing all the cards \n",
    "        \n",
    "        Output:\n",
    "        - player_cards: the list of cards for the player who just draw the card\n",
    "        - deck_card: the initial deck with the removed card\n",
    "    \"\"\"\n",
    "    card_values = {\"one\":1,\"two\":2, \"three\": 3, \"four\": 4, \"five\": 5, \"six\": 6, \"seven\": 7, \"eight\": 8, \"nine\": 9, \"ten\":10, \"jack\": 10, \"queen\": 10, \"king\": 10, \"ace\": 11}\n",
    "    \n",
    "    # Random card picker\n",
    "    random_card = random.choice(deck_cards)\n",
    "    deck_cards.remove(random_card)\n",
    "\n",
    "    # Print initial state\n",
    "    if player == \"dealer\" and player_cards == []:    \n",
    "        print('The dealer has been served. The card is faced down')\n",
    "    elif player == \"player\":\n",
    "        print(f'The player card is: {random_card}')\n",
    "        if random_card == \"ace\":\n",
    "          card_choice = input(\"What value of the card would you keep: one or ace?\")\n",
    "          random_card = card_choice\n",
    "    else:\n",
    "        print(f'The dealer card is: {random_card}')\n",
    "    \n",
    "    # Changing scores\n",
    "    player_cards.append(random_card)\n",
    "    player_score = player_score + card_values[random_card]\n",
    "    \n",
    "    return player_cards, player_score, deck_cards"
   ]
  },
  {
   "cell_type": "code",
   "execution_count": 9,
   "metadata": {},
   "outputs": [],
   "source": [
    "def score(dealer_score, player_score):\n",
    "    if player_score == 21:\n",
    "        print(dealer_score, player_score)\n",
    "        print(\"Congratulations! You got a Blackjack!\\n\")\n",
    "    elif dealer_score == 21:\n",
    "        print(dealer_score, player_score)\n",
    "        print (\"Sorry, you lose. The dealer got a blackjack.\\n\")\n",
    "    elif player_score > 21:\n",
    "        print(dealer_score, player_score)\n",
    "        print (\"Sorry. You bust. You lose.\\n\")\n",
    "    elif dealer_score > 21:\n",
    "        print(dealer_score, player_score)\n",
    "        print (\"Dealer busts. You win!\\n\")\n",
    "    elif player_score < dealer_score:\n",
    "        print(dealer_score, player_score)\n",
    "        print (\"Sorry. Your score isn't higher than the dealer. You lose.\\n\")\n",
    "    elif player_score > dealer_score:\n",
    "        print(dealer_score, player_score)\n",
    "        print (\"Congratulations. Your score is higher than the dealer. You win\\n\")"
   ]
  },
  {
   "cell_type": "code",
   "execution_count": 10,
   "metadata": {},
   "outputs": [
    {
     "name": "stdout",
     "output_type": "stream",
     "text": [
      "The player card is: three\n",
      "The dealer has been served. The card is faced down\n",
      "The player card is: jack\n",
      "The dealer card is: eight\n",
      "What do you want to do? hit or standhit\n",
      "The player card is: eight\n",
      "The dealer card is: king\n",
      "dealer cards ['ace', 'eight', 'king']\n",
      "player cards ['three', 'jack', 'eight']\n",
      "dealer score 29\n",
      "player score 21\n",
      "29 21\n",
      "Congratulations! You got a Blackjack!\n",
      "\n"
     ]
    }
   ],
   "source": [
    "game()"
   ]
  },
  {
   "cell_type": "code",
   "execution_count": null,
   "metadata": {},
   "outputs": [],
   "source": []
  }
 ],
 "metadata": {
  "kernelspec": {
   "display_name": "Python 3",
   "language": "python",
   "name": "python3"
  },
  "language_info": {
   "codemirror_mode": {
    "name": "ipython",
    "version": 3
   },
   "file_extension": ".py",
   "mimetype": "text/x-python",
   "name": "python",
   "nbconvert_exporter": "python",
   "pygments_lexer": "ipython3",
   "version": "3.7.4"
  }
 },
 "nbformat": 4,
 "nbformat_minor": 2
}
