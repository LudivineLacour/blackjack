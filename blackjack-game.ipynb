{
 "cells": [
  {
   "cell_type": "code",
   "execution_count": 36,
   "metadata": {},
   "outputs": [],
   "source": [
    "import random"
   ]
  },
  {
   "cell_type": "code",
   "execution_count": 37,
   "metadata": {},
   "outputs": [],
   "source": [
    "## FUNCTIONS BELOW \n",
    "\n",
    "def game():\n",
    "    \n",
    "    cards = 4*[ \"two\", \"three\", \"four\", \"five\", \"six\", \"seven\", \"eight\", \"nine\", \"ten\", \"jack\", \"queen\", \"king\", \"ace\"]         \n",
    "    card_values = {\"one\":1,\"two\":2, \"three\": 3, \"four\": 4, \"five\": 5, \"six\": 6, \"seven\": 7, \"eight\": 8, \"nine\": 9, \"ten\":10, \"jack\": 10, \"queen\": 10, \"king\": 10, \"ace\": 11}\n",
    "\n",
    "    player_score=0\n",
    "    dealer_score=0\n",
    "\n",
    "    player_cards=[]\n",
    "    dealer_cards=[]\n",
    "    \n",
    "    ### Beginning of the game. Draw the first 2 cards\n",
    "    player_cards, player_score, cards = draw_cards(\"player\", player_cards, player_score, cards)\n",
    "    dealer_cards, dealer_score, cards = draw_cards(\"dealer\", dealer_cards, dealer_score, cards)\n",
    "    player_cards, player_score, cards = draw_cards(\"player\", player_cards, player_score, cards)\n",
    "    dealer_cards, dealer_score, cards = draw_cards(\"dealer\", dealer_cards, dealer_score, cards)\n",
    "    \n",
    "    ### 2nd step: is the player allowed to continue?\n",
    "    if player_score > 21:\n",
    "        return \"sorry you loose!\"\n",
    "    ### Blackjack rules to add later\n",
    "    #elif player in ['Ace','Jack']:\n",
    "    #    return \"BlackJack! Nice one\"\n",
    "    #elif player_score == 21 and dealer_score != 21:\n",
    "    #    return \"congratulations! You WIN!\"\n",
    "    else:\n",
    "        usr_inp = input('What do you want to do? hit or stand')# The player is able to hit unlimited until he reach more than 21 or stand\n",
    "    \n",
    "    if usr_inp == 'hit':\n",
    "        player_cards, player_score, cards = draw_cards(\"player\", player_cards, player_score, cards)\n",
    "    else:   \n",
    "        print(f\"These are the cards of the dealer {dealer_cards}\") \n",
    "    \n",
    "    while dealer_score < player_score:\n",
    "        # dealer keeps playing and draw cards\n",
    "        dealer_cards, dealer_score, cards = draw_cards(\"dealer\", dealer_cards, dealer_score, cards)\n",
    "    \n",
    "    print('dealer cards', dealer_cards)\n",
    "    print('player cards', player_cards)\n",
    "    print('dealer score', dealer_score)\n",
    "    print('player score', player_score)\n",
    "    #if dealer_score < 21 and dealer_score > player_score:\n",
    "    #    return \"Dealer wins\"\n",
    "    #else:\n",
    "    #    return \"Player wins\"\n",
    "\n",
    "    #score()"
   ]
  },
  {
   "cell_type": "code",
   "execution_count": 38,
   "metadata": {},
   "outputs": [],
   "source": [
    "def draw_cards(player, player_cards, player_score, deck_cards):\n",
    "\n",
    "    \"\"\" This function allow to draw a random card for the dealer or the player.\n",
    "        The card is removed from the deck once distributed.\n",
    "        \n",
    "        Input: \n",
    "        - player: the type of player either the player or the dealer\n",
    "        - player_cards: the list containing the cards of the player\n",
    "        - deck_cards: the list containing all the cards \n",
    "        \n",
    "        Output:\n",
    "        - player_cards: the list of cards for the player who just draw the card\n",
    "        - deck_card: the initial deck with the removed card\n",
    "    \"\"\"\n",
    "    # Random card picker\n",
    "    random_card = random.choice(deck_cards)\n",
    "    deck_cards.remove(random_card)\n",
    "\n",
    "    # Print initial state\n",
    "    if player == \"dealer\" and player_cards == []:    \n",
    "        print('The dealer has been served. The card is faced down')\n",
    "    elif player == \"player\":\n",
    "        print(f'The player card is: {random_card}')\n",
    "        if random_card == \"ace\":\n",
    "          card_choice = input(\"What value of the card would you keep: one or ace?\")\n",
    "          random_card = card_choice\n",
    "    else:\n",
    "        print(f'The dealer card is: {random_card}')\n",
    "    \n",
    "    # Changing scores\n",
    "    player_cards.append(random_card)\n",
    "    player_score = player_score + card_values[random_card]\n",
    "    \n",
    "    return player_cards, player_score, deck_cards"
   ]
  },
  {
   "cell_type": "code",
   "execution_count": 39,
   "metadata": {},
   "outputs": [],
   "source": [
    "def player_game():\n",
    "    \"\"\"The function should ask the player if they want to hit or stand\n",
    "        If the player hit, a new card is drawed\n",
    "        If the player stand, we should return the same cards\n",
    "        \n",
    "        Input = user.input()\n",
    "        \n",
    "        Output = players_cards\n",
    "    \"\"\"\n",
    "    usr_inp = input('What do you want to do? hit or stand')\n",
    "    \n",
    "    if usr_inp == 'hit':\n",
    "        player_cards, player_score, cards = draw_cards(player_cards, player_score, cards)\n",
    "        print(\"New card\")\n",
    "    elif usr_inp == 'stand':\n",
    "      #player stays with current score\n",
    "      print('dealer draws cards')\n",
    "        \n",
    "    return draw_cards()"
   ]
  },
  {
   "cell_type": "code",
   "execution_count": 40,
   "metadata": {},
   "outputs": [],
   "source": [
    "def game1(dealer_cards, player_cards):\n",
    "    if player_cards == 21:\n",
    "        print_results(dealer_cards, player_cards)\n",
    "        print (\"Congratulations! You got a Blackjack!\\n\")\n",
    "    elif dealer_cards == 21:\n",
    "        print_results(dealer_cards, player_cards)\n",
    "        print (\"Sorry, you lose. The dealer got a blackjack.\\n\")\n",
    "    elif player_cards > 21:\n",
    "        print_results(dealer_cards, player_cards)\n",
    "        print (\"Sorry. You bust. You lose.\\n\")\n",
    "    elif dealer_cards > 21:\n",
    "        print_results(dealer_cards, player_cards)\n",
    "        print (\"Dealer busts. You win!\\n\")\n",
    "    elif player_cards < dealer_cards:\n",
    "        print_results(dealer_cards, player_cards)\n",
    "        print (\"Sorry. Your score isn't higher than the dealer. You lose.\\n\")\n",
    "    elif player_cards > dealer_cards:\n",
    "        print_results(dealer_cards, player_cards)\n",
    "        print (\"Congratulations. Your score is higher than the dealer. You win\\n\")"
   ]
  },
  {
   "cell_type": "code",
   "execution_count": 41,
   "metadata": {},
   "outputs": [
    {
     "name": "stdout",
     "output_type": "stream",
     "text": [
      "The player card is: six\n",
      "The dealer has been served. The card is faced down\n",
      "The player card is: eight\n",
      "The dealer card is: jack\n",
      "What do you want to do? hit or standhit\n",
      "The player card is: six\n",
      "dealer cards ['ace', 'jack']\n",
      "player cards ['six', 'eight', 'six']\n",
      "dealer score 21\n",
      "player score 20\n"
     ]
    }
   ],
   "source": [
    "game()"
   ]
  },
  {
   "cell_type": "code",
   "execution_count": null,
   "metadata": {},
   "outputs": [],
   "source": []
  }
 ],
 "metadata": {
  "kernelspec": {
   "display_name": "Python 3",
   "language": "python",
   "name": "python3"
  },
  "language_info": {
   "codemirror_mode": {
    "name": "ipython",
    "version": 3
   },
   "file_extension": ".py",
   "mimetype": "text/x-python",
   "name": "python",
   "nbconvert_exporter": "python",
   "pygments_lexer": "ipython3",
   "version": "3.7.4"
  }
 },
 "nbformat": 4,
 "nbformat_minor": 2
}
